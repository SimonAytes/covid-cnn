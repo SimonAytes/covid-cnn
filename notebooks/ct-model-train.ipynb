{
 "cells": [
  {
   "cell_type": "markdown",
   "id": "503c199a-de83-430a-934e-69283ca79888",
   "metadata": {},
   "source": [
    "# **CT-Scan Model Training**\n",
    "----"
   ]
  },
  {
   "cell_type": "markdown",
   "id": "09bbe7b4-c99c-441d-b955-46efb6ee73fd",
   "metadata": {},
   "source": [
    "## 1. Import requires libraries"
   ]
  },
  {
   "cell_type": "code",
   "execution_count": 16,
   "id": "6b4b6657-e44d-4ea9-aa37-5aeacaa350b4",
   "metadata": {},
   "outputs": [],
   "source": [
    "from tensorflow.keras.layers import Input, Lambda, Dense, Flatten, Dropout, Conv2D, MaxPooling2D, BatchNormalization\n",
    "from tensorflow.keras.models import Model\n",
    "from tensorflow.keras.preprocessing import image\n",
    "from tensorflow.keras.callbacks import EarlyStopping\n",
    "from sklearn.metrics import accuracy_score, classification_report, confusion_matrix\n",
    "from tensorflow.keras.preprocessing.image import ImageDataGenerator\n",
    "from sklearn.model_selection import train_test_split\n",
    "from tensorflow.keras.models import Sequential\n",
    "from tensorflow.keras.optimizers import Adam\n",
    "from tensorflow.keras.losses import SparseCategoricalCrossentropy\n",
    "import numpy as np\n",
    "import pandas as pd\n",
    "import seaborn as sns\n",
    "import os\n",
    "import cv2\n",
    "import matplotlib.pyplot as plt\n",
    "import visualkeras\n",
    "from datetime import datetime as dt"
   ]
  },
  {
   "cell_type": "code",
   "execution_count": 2,
   "id": "71dbad52-a109-442d-9310-25772b665439",
   "metadata": {},
   "outputs": [],
   "source": [
    "# Set random seed for reproducabiliy\n",
    "np.random.seed(5)"
   ]
  },
  {
   "cell_type": "markdown",
   "id": "123b56b5-f267-4b14-a047-00c038be8245",
   "metadata": {
    "tags": []
   },
   "source": [
    "## 2. Load data\n",
    "\n",
    "The data we will use is sourced from [here](https://www.kaggle.com/datasets/plameneduardo/a-covid-multiclass-dataset-of-ct-scans) and was utilized in the paper [E. Soares, et. al (2020)](https://www.medrxiv.org/content/10.1101/2020.04.24.20078584v3). It contains a total of 4,173 scans from 210 different patients living in São Paolo, Brazil."
   ]
  },
  {
   "cell_type": "markdown",
   "id": "56d0b35e-049d-4a53-a8f5-13a9ca77a518",
   "metadata": {},
   "source": [
    "### Data ingestion"
   ]
  },
  {
   "cell_type": "code",
   "execution_count": 3,
   "id": "66de0b21-17cd-4eec-835d-c9c5d68f8961",
   "metadata": {},
   "outputs": [],
   "source": [
    "def load_ct_data(path):\n",
    "    # Create datalist and error counter\n",
    "    imported_data = []\n",
    "    num_errors = 0\n",
    "    \n",
    "    # Loop through directory and sub-directories\n",
    "    for directory in os.listdir(path):\n",
    "        sub_path = path + \"/\" + directory\n",
    "        \n",
    "        if \".DS_Store\" in sub_path:\n",
    "            continue\n",
    "    \n",
    "        # Loop through all subdirectories\n",
    "        for subdir in os.listdir(sub_path):\n",
    "            subdir_path=sub_path + \"/\" + subdir\n",
    "    \n",
    "            if \".DS_Store\" in subdir_path:\n",
    "                continue\n",
    "                \n",
    "            # Loop through all images in subdirectory\n",
    "            for img in os.listdir(subdir_path):\n",
    "                # Get the image path\n",
    "                image_path = subdir_path + \"/\" + img\n",
    "                \n",
    "                if \".DS_Store\" in image_path:\n",
    "                    continue\n",
    "                \n",
    "                # Load in the image\n",
    "                img_arr = cv2.imread(image_path)\n",
    "                # Try to resize it to the TARGET_IMAGE_SIZE variable\n",
    "                try:\n",
    "                    img_arr = cv2.resize(img_arr, TARGET_IMAGE_SIZE)\n",
    "                    imported_data.append(img_arr)\n",
    "                # If an exception occurs, omit it and continue\n",
    "                except Exception as e:\n",
    "                    num_errors += 1\n",
    "                    continue\n",
    "\n",
    "    return imported_data, num_errors\n",
    "\n",
    "def load_xray_data(path):\n",
    "    # Create datalist and error counter\n",
    "    imported_data = []\n",
    "    num_errors = 0\n",
    "    \n",
    "    for directory in os.listdir(path):\n",
    "        sub_path = path + \"/\" + directory\n",
    "        \n",
    "        if \".DS_Store\" in sub_path:\n",
    "            continue\n",
    "    \n",
    "        # Loop through all subdirectories\n",
    "        for image in os.listdir(sub_path):\n",
    "            img_path = sub_path + \"/\" + image\n",
    "    \n",
    "            if \".DS_Store\" in img_path:\n",
    "                continue\n",
    "\n",
    "            # Load in the image\n",
    "            img_arr = cv2.imread(img_path)\n",
    "            # Try to resize it to the TARGET_IMAGE_SIZE variable\n",
    "            try:\n",
    "                img_arr = cv2.resize(img_arr, TARGET_IMAGE_SIZE)\n",
    "                imported_data.append(img_arr)\n",
    "            # If an exception occurs, omit it and continue\n",
    "            except Exception as e:\n",
    "                num_errors += 1\n",
    "                continue\n",
    "            \n",
    "    \n",
    "    return imported_data, num_errors"
   ]
  },
  {
   "cell_type": "code",
   "execution_count": 5,
   "id": "96f0e87a-bf53-4061-b1cb-71ac8cfc303f",
   "metadata": {
    "tags": []
   },
   "outputs": [
    {
     "name": "stdin",
     "output_type": "stream",
     "text": [
      "CT-Scan (ct) or X-Ray (xr) data?:  xr\n"
     ]
    },
    {
     "name": "stdout",
     "output_type": "stream",
     "text": [
      "Loading X-Ray data...\n",
      "\tLoaded a total of 15153 files.\n",
      "Num. Errors: 0\n"
     ]
    }
   ],
   "source": [
    "choice = input(\"CT-Scan (ct) or X-Ray (xr) data?: \")\n",
    "\n",
    "# X-RAY DATA\n",
    "if choice == \"xr\":\n",
    "    print(\"Loading X-Ray data...\")\n",
    "    path = \"../data/raw/xray_data/\"\n",
    "    model_type = \"xr\"\n",
    "    # We define the target image size as 256x256 pixels\n",
    "    TARGET_IMAGE_SIZE = (128, 128)\n",
    "    imported_data, num_errors = load_xray_data(path)\n",
    "# CT-SCAN DATA\n",
    "elif choice == \"ct\":\n",
    "    print(\"Loading CT-Scan data...\")\n",
    "    path = \"../data/raw/ct_data/\"\n",
    "    model_type = \"ct\"\n",
    "    # We define the target image size as 100x100 pixels\n",
    "    TARGET_IMAGE_SIZE = (100, 100)\n",
    "    imported_data, num_errors = load_ct_data(path)\n",
    "# INVALID SELECTION\n",
    "else:\n",
    "    print(\"Invalid selection, please try again\")\n",
    "    imported_data = []\n",
    "    num_errors = 0\n",
    "    model_type = \"\"\n",
    "    \n",
    "print(f\"\\tLoaded a total of {len(imported_data)} files.\\nNum. Errors: {num_errors}\")"
   ]
  },
  {
   "cell_type": "markdown",
   "id": "e87cd9ef-6f10-4d40-9b6c-c1bc6e770818",
   "metadata": {},
   "source": [
    "### Image preprocessing\n",
    "\n",
    "Initially, each image was resized to be **128x128 pixels**.\n",
    "\n",
    "Now we want to normalize the images to improve contrast in the colors. To do this, we divide all RGB pixel values by $255.0$."
   ]
  },
  {
   "cell_type": "code",
   "execution_count": 6,
   "id": "f36d964b-e86c-4fed-8c77-0b092314f401",
   "metadata": {
    "tags": []
   },
   "outputs": [],
   "source": [
    "images_norm = np.array(imported_data)\n",
    "\n",
    "images_norm = images_norm / 255.0"
   ]
  },
  {
   "cell_type": "code",
   "execution_count": 7,
   "id": "5ca686e7-5e15-4f11-ad1e-224a79558414",
   "metadata": {
    "tags": []
   },
   "outputs": [
    {
     "data": {
      "image/png": "[encoded data removed]",
      "text/plain": [
       "<Figure size 640x480 with 1 Axes>"
      ]
     },
     "metadata": {},
     "output_type": "display_data"
    }
   ],
   "source": [
    "plt.imshow(images_norm[0], interpolation='nearest')\n",
    "plt.show()"
   ]
  },
  {
   "cell_type": "markdown",
   "id": "fba5635b-0f86-44cc-ba0b-cc492da36273",
   "metadata": {},
   "source": [
    "### Dataset labeling\n",
    "\n",
    "This dataset contains three classifications for the included X-Ray images. The table below shows the sample sizes of these three categories contained in the dataset.\n",
    "\n",
    "| ID |       Type      | Sample Size |\n",
    "|:--:|:---------------:|:-----------:|\n",
    "| 0  |     COVID-19    |   3,616     |\n",
    "| 1  |     Healthy     |   10,192    |\n",
    "| 2  | Viral Pneumonia |   1,345     |\n",
    "\n",
    "As the data also includes a set of `Viral Pneumonia`, this model will also have the ability to make that classification.\n",
    "\n",
    "To label these imaes, we use an `ImageDataGenerator` object to walk through the sub-directories of our data folder and capture the classes. We then combine these with the"
   ]
  },
  {
   "cell_type": "code",
   "execution_count": 8,
   "id": "9f8385d4-7086-46e2-9f65-a57a59486348",
   "metadata": {
    "tags": []
   },
   "outputs": [
    {
     "name": "stdout",
     "output_type": "stream",
     "text": [
      "Found 15153 images belonging to 3 classes.\n",
      "\n",
      "Identified Class Labels: {'COVID': 0, 'Normal': 1, 'Viral Pneumonia': 2}\n"
     ]
    }
   ],
   "source": [
    "data_generator = ImageDataGenerator(rescale = 1./255)\n",
    "dataset_labels = data_generator.flow_from_directory(path,\n",
    "                                                    target_size = TARGET_IMAGE_SIZE,\n",
    "                                                    batch_size = 32,\n",
    "                                                    class_mode = 'sparse')\n",
    "\n",
    "# Get a list of the class labels from the ImageDataGenerator object\n",
    "class_labels = dataset_labels.classes\n",
    "\n",
    "print(f\"\\nIdentified Class Labels: {dataset_labels.class_indices}\")"
   ]
  },
  {
   "cell_type": "markdown",
   "id": "1b7be9a3-a75f-467a-a676-2eb8577b2388",
   "metadata": {},
   "source": [
    "## 3. Data split"
   ]
  },
  {
   "cell_type": "code",
   "execution_count": 9,
   "id": "7323ab66-a62f-485f-bc24-7f015f8b615e",
   "metadata": {},
   "outputs": [],
   "source": [
    "sample_sizes = [3616, 10192, 1345]\n",
    "# Create arrays of indices for each class\n",
    "indices_covid19 = np.where(class_labels == 0)[0]\n",
    "indices_healthy = np.where(class_labels == 1)[0]\n",
    "indices_viral_pneumonia = np.where(class_labels == 2)[0]\n",
    "\n",
    "# Determine the minimum number of samples among all classes\n",
    "min_sample_size = min(sample_sizes)\n",
    "\n",
    "# Randomly sample data for each class to achieve balance\n",
    "indices_covid19_sampled = np.random.choice(indices_covid19, min_sample_size, replace=False)\n",
    "indices_healthy_sampled = np.random.choice(indices_healthy, min_sample_size, replace=False)\n",
    "indices_viral_pneumonia_sampled = np.random.choice(indices_viral_pneumonia, min_sample_size, replace=False)\n",
    "\n",
    "# Combine the sampled indices for all classes\n",
    "indices_combined = np.concatenate(\n",
    "    [indices_covid19_sampled, indices_healthy_sampled, indices_viral_pneumonia_sampled]\n",
    ")\n",
    "\n",
    "# Use the combined indices to create a balanced dataset\n",
    "balanced_data = images_norm[indices_combined]\n",
    "balanced_labels = class_labels[indices_combined]"
   ]
  },
  {
   "cell_type": "code",
   "execution_count": 10,
   "id": "122f7bc9-a699-479a-8974-a4d32c0b6c38",
   "metadata": {
    "tags": []
   },
   "outputs": [
    {
     "name": "stdout",
     "output_type": "stream",
     "text": [
      "Train Size (x, y): (3066, 3066)\n",
      "Validation Size (x, y): (162, 162)\n",
      "Test Size (x, y): (807, 807)\n"
     ]
    }
   ],
   "source": [
    "x_train, x_test, y_train, y_test = train_test_split(balanced_data,\n",
    "                                                    balanced_labels,\n",
    "                                                    test_size=0.2,\n",
    "                                                    stratify=balanced_labels,\n",
    "                                                    random_state=5)\n",
    "\n",
    "x_train, x_val, y_train, y_val = train_test_split(x_train,\n",
    "                                                  y_train,\n",
    "                                                  test_size = 0.05,\n",
    "                                                  random_state=5)\n",
    "\n",
    "print(f\"Train Size (x, y): {x_train.shape[0],y_train.shape[0]}\")\n",
    "print(f\"Validation Size (x, y): {x_val.shape[0],y_val.shape[0]}\")\n",
    "print(f\"Test Size (x, y): {x_test.shape[0],y_test.shape[0]}\")"
   ]
  },
  {
   "cell_type": "markdown",
   "id": "748b6df6-d03c-4f60-b64d-07d873711e80",
   "metadata": {},
   "source": [
    "## 4. Model configuration\n",
    "\n",
    "We used a CNN with **N** layers to accomplish this classification task.\n",
    "\n",
    "**[INSERT IMAGE OF LAYERS HERE]**\n",
    "\n",
    "**Model Type:** Sequential (linear model)\n",
    "\n",
    "**Layer Breakdown:**\n",
    "\n",
    "- _**Convolution Layer:**_ The convolution layers use the sliding window approach to look at the pixels in each input image to identify patterns/features within. All such layers used here use the `relu` activation function.\n",
    "- _**Pooling Layer:**_ These layers reduce the spatial dimensions of the data by taking the maximum value from each 2x2 px region of the previous layer's output. It helps boost efficiency.\n",
    "- _**Batch Normalization**_ These layers standardize the output of the pooling layer to assit in stabilizing and accelerating the training process.\n",
    "- _**Flatten Layer:**_ After the last pooling layer, this layer converts the 2D output (e.g. x and y points) into a 1D array to prepare the data for the final output layer.\n",
    "- _**Output Layer:**_ The output layer has 3 neurons and is activated with `softmax` which converts the raw predictions into the probabilities of each class, the highest of which is our final output."
   ]
  },
  {
   "cell_type": "code",
   "execution_count": 16,
   "id": "415f8b92-0f98-462c-b73e-2418d05e5bff",
   "metadata": {
    "tags": []
   },
   "outputs": [],
   "source": [
    "# Create the model as a sequential CNN\n",
    "model = Sequential()\n",
    "\n",
    "# FIRST LAYER GROUP (INPUT)\n",
    "model.add(Conv2D(32,(3,3),activation='relu',input_shape=(TARGET_IMAGE_SIZE[0],\n",
    "                                                         TARGET_IMAGE_SIZE[1],\n",
    "                                                         3)))\n",
    "model.add(MaxPooling2D(2,2))\n",
    "model.add(BatchNormalization())\n",
    "\n",
    "# SECOND LAYER GROUP\n",
    "model.add(Conv2D(32,(8, 8),activation='relu'))\n",
    "# model.add(Conv2D(32,(3,3),activation='relu'))\n",
    "model.add(MaxPooling2D(2,2))\n",
    "model.add(BatchNormalization())\n",
    "\n",
    "# THIRD LAYER GROUP\n",
    "model.add(Conv2D(32,(6, 6),activation='relu'))\n",
    "# model.add(Conv2D(64,(3,3),activation='relu'))\n",
    "model.add(MaxPooling2D(2,2))\n",
    "model.add(BatchNormalization())\n",
    "\n",
    "# FOURTH LAYER GROUP\n",
    "model.add(Conv2D(32,(3,3),activation='relu'))\n",
    "model.add(MaxPooling2D(2,2))\n",
    "model.add(BatchNormalization())\n",
    "\n",
    "# FIFTH LAYER GROUP\n",
    "model.add(Flatten())\n",
    "\n",
    "# SIXTH LAYER GROUP (OUTPUT)\n",
    "model.add(Dense(3,activation='softmax'))"
   ]
  },
  {
   "cell_type": "code",
   "execution_count": 14,
   "id": "6aa48409-5c50-46cb-a929-6fb56c07c89b",
   "metadata": {},
   "outputs": [],
   "source": [
    "xr_91_model = Sequential([\n",
    "    Conv2D(32, (3, 3), activation='relu', input_shape=(TARGET_IMAGE_SIZE[0],\n",
    "                                                                       TARGET_IMAGE_SIZE[1],\n",
    "                                                                       3)),\n",
    "    MaxPooling2D((2, 2)),\n",
    "    Conv2D(64, (3, 3), activation='relu'),\n",
    "    MaxPooling2D((2, 2)),\n",
    "    Conv2D(128, (3, 3), activation='relu'),\n",
    "    MaxPooling2D((2, 2)),\n",
    "    Flatten(),\n",
    "    Dense(128, activation='relu'),\n",
    "    Dropout(0.5),\n",
    "    Dense(3, activation='softmax')\n",
    "])"
   ]
  },
  {
   "cell_type": "code",
   "execution_count": 42,
   "id": "e217d937-8614-45a8-bcfc-a99a3ca46e64",
   "metadata": {},
   "outputs": [],
   "source": [
    "model = Sequential([\n",
    "    Conv2D(16, (3, 3), activation='relu', input_shape=(128, 128, 3)),\n",
    "    BatchNormalization(),\n",
    "    MaxPooling2D((2, 2)),\n",
    "    Conv2D(32, (3, 3), activation='relu'),\n",
    "    BatchNormalization(),\n",
    "    MaxPooling2D((2, 2)),\n",
    "    Conv2D(64, (3, 3), activation='relu'),\n",
    "    BatchNormalization(),\n",
    "    MaxPooling2D((2, 2)),\n",
    "    Conv2D(128, (3, 3), activation='relu'),\n",
    "    BatchNormalization(),\n",
    "    MaxPooling2D((2, 2)),\n",
    "    Flatten(),\n",
    "    Dense(128, activation='relu', kernel_regularizer='l2'),\n",
    "    Dropout(0.5),\n",
    "    Dense(64, activation='relu', kernel_regularizer='l2'),\n",
    "    Dropout(0.5),\n",
    "    Dense(3, activation='softmax')\n",
    "])"
   ]
  },
  {
   "cell_type": "markdown",
   "id": "23ad47f7-17fe-43a0-95c3-8285e0431c4e",
   "metadata": {},
   "source": [
    "### Model summary"
   ]
  },
  {
   "cell_type": "code",
   "execution_count": 15,
   "id": "371df7fb-879f-4e47-b7ad-2fb272204a13",
   "metadata": {
    "collapsed": true,
    "jupyter": {
     "outputs_hidden": true
    }
   },
   "outputs": [
    {
     "ename": "AttributeError",
     "evalue": "'ImageFont' object has no attribute 'getsize'",
     "output_type": "error",
     "traceback": [
      "\u001b[1;31m---------------------------------------------------------------------------\u001b[0m",
      "\u001b[1;31mAttributeError\u001b[0m                            Traceback (most recent call last)",
      "Cell \u001b[1;32mIn[15], line 2\u001b[0m\n\u001b[0;32m      1\u001b[0m \u001b[38;5;66;03m# Visualize the model\u001b[39;00m\n\u001b[1;32m----> 2\u001b[0m \u001b[43mvisualkeras\u001b[49m\u001b[38;5;241;43m.\u001b[39;49m\u001b[43mlayered_view\u001b[49m\u001b[43m(\u001b[49m\u001b[43mmodel\u001b[49m\u001b[43m,\u001b[49m\u001b[43m \u001b[49m\u001b[43mlegend\u001b[49m\u001b[38;5;241;43m=\u001b[39;49m\u001b[38;5;28;43;01mTrue\u001b[39;49;00m\u001b[43m)\u001b[49m\n",
      "File \u001b[1;32m~\\AppData\\Local\\Programs\\Python\\Python311\\Lib\\site-packages\\visualkeras\\layered.py:194\u001b[0m, in \u001b[0;36mlayered_view\u001b[1;34m(model, to_file, min_z, min_xy, max_z, max_xy, scale_z, scale_xy, type_ignore, index_ignore, color_map, one_dim_orientation, background_fill, draw_volume, padding, spacing, draw_funnel, shade_step, legend, font, font_color)\u001b[0m\n\u001b[0;32m    191\u001b[0m \u001b[38;5;28;01mif\u001b[39;00m font \u001b[38;5;129;01mis\u001b[39;00m \u001b[38;5;28;01mNone\u001b[39;00m:\n\u001b[0;32m    192\u001b[0m     font \u001b[38;5;241m=\u001b[39m ImageFont\u001b[38;5;241m.\u001b[39mload_default()\n\u001b[1;32m--> 194\u001b[0m text_height \u001b[38;5;241m=\u001b[39m \u001b[43mfont\u001b[49m\u001b[38;5;241;43m.\u001b[39;49m\u001b[43mgetsize\u001b[49m(\u001b[38;5;124m\"\u001b[39m\u001b[38;5;124mAg\u001b[39m\u001b[38;5;124m\"\u001b[39m)[\u001b[38;5;241m1\u001b[39m]\n\u001b[0;32m    195\u001b[0m cube_size \u001b[38;5;241m=\u001b[39m text_height\n\u001b[0;32m    197\u001b[0m de \u001b[38;5;241m=\u001b[39m \u001b[38;5;241m0\u001b[39m\n",
      "\u001b[1;31mAttributeError\u001b[0m: 'ImageFont' object has no attribute 'getsize'"
     ]
    }
   ],
   "source": [
    "# Visualize the model\n",
    "visualkeras.layered_view(model, legend=True)"
   ]
  },
  {
   "cell_type": "code",
   "execution_count": 43,
   "id": "f9b62cf4-6d32-4815-b84f-e12ba4cfa7ee",
   "metadata": {
    "tags": []
   },
   "outputs": [
    {
     "name": "stdout",
     "output_type": "stream",
     "text": [
      "Model: \"sequential_8\"\n",
      "_________________________________________________________________\n",
      " Layer (type)                Output Shape              Param #   \n",
      "=================================================================\n",
      " conv2d_32 (Conv2D)          (None, 126, 126, 16)      448       \n",
      "                                                                 \n",
      " batch_normalization_4 (Bat  (None, 126, 126, 16)      64        \n",
      " chNormalization)                                                \n",
      "                                                                 \n",
      " max_pooling2d_32 (MaxPooli  (None, 63, 63, 16)        0         \n",
      " ng2D)                                                           \n",
      "                                                                 \n",
      " conv2d_33 (Conv2D)          (None, 61, 61, 32)        4640      \n",
      "                                                                 \n",
      " batch_normalization_5 (Bat  (None, 61, 61, 32)        128       \n",
      " chNormalization)                                                \n",
      "                                                                 \n",
      " max_pooling2d_33 (MaxPooli  (None, 30, 30, 32)        0         \n",
      " ng2D)                                                           \n",
      "                                                                 \n",
      " conv2d_34 (Conv2D)          (None, 28, 28, 64)        18496     \n",
      "                                                                 \n",
      " batch_normalization_6 (Bat  (None, 28, 28, 64)        256       \n",
      " chNormalization)                                                \n",
      "                                                                 \n",
      " max_pooling2d_34 (MaxPooli  (None, 14, 14, 64)        0         \n",
      " ng2D)                                                           \n",
      "                                                                 \n",
      " conv2d_35 (Conv2D)          (None, 12, 12, 128)       73856     \n",
      "                                                                 \n",
      " batch_normalization_7 (Bat  (None, 12, 12, 128)       512       \n",
      " chNormalization)                                                \n",
      "                                                                 \n",
      " max_pooling2d_35 (MaxPooli  (None, 6, 6, 128)         0         \n",
      " ng2D)                                                           \n",
      "                                                                 \n",
      " flatten_8 (Flatten)         (None, 4608)              0         \n",
      "                                                                 \n",
      " dense_24 (Dense)            (None, 128)               589952    \n",
      "                                                                 \n",
      " dropout_16 (Dropout)        (None, 128)               0         \n",
      "                                                                 \n",
      " dense_25 (Dense)            (None, 64)                8256      \n",
      "                                                                 \n",
      " dropout_17 (Dropout)        (None, 64)                0         \n",
      "                                                                 \n",
      " dense_26 (Dense)            (None, 3)                 195       \n",
      "                                                                 \n",
      "=================================================================\n",
      "Total params: 696803 (2.66 MB)\n",
      "Trainable params: 696323 (2.66 MB)\n",
      "Non-trainable params: 480 (1.88 KB)\n",
      "_________________________________________________________________\n"
     ]
    }
   ],
   "source": [
    "model.summary()"
   ]
  },
  {
   "cell_type": "markdown",
   "id": "051cafc5-ae6b-4f7c-9108-dc8e44effba0",
   "metadata": {},
   "source": [
    "## 5. Model training"
   ]
  },
  {
   "cell_type": "markdown",
   "id": "f8cc6599-9594-4226-910e-3dc95f34edbe",
   "metadata": {},
   "source": [
    "To train the model, we will use an [adam](https://keras.io/api/optimizers/adam/#:~:text=Adam%20optimization%20is%20a%20stochastic,order%20and%20second%2Dorder%20moments.) optimizer and will enable early-stopping."
   ]
  },
  {
   "cell_type": "code",
   "execution_count": 45,
   "id": "c964bba7-d08f-41f3-9968-94652ea5ec1e",
   "metadata": {
    "tags": []
   },
   "outputs": [
    {
     "name": "stdout",
     "output_type": "stream",
     "text": [
      "Epoch 1/30\n",
      "96/96 [==============================] - 23s 221ms/step - loss: 3.8904 - accuracy: 0.6125 - val_loss: 3.8537 - val_accuracy: 0.3642\n",
      "Epoch 2/30\n",
      "96/96 [==============================] - 21s 218ms/step - loss: 2.4336 - accuracy: 0.7280 - val_loss: 3.8224 - val_accuracy: 0.5926\n",
      "Epoch 3/30\n",
      "96/96 [==============================] - 21s 219ms/step - loss: 1.6982 - accuracy: 0.7860 - val_loss: 2.3800 - val_accuracy: 0.6852\n",
      "Epoch 4/30\n",
      "96/96 [==============================] - 21s 219ms/step - loss: 1.2203 - accuracy: 0.8340 - val_loss: 1.3749 - val_accuracy: 0.6914\n",
      "Epoch 5/30\n",
      "96/96 [==============================] - 21s 219ms/step - loss: 0.9483 - accuracy: 0.8532 - val_loss: 0.9938 - val_accuracy: 0.8148\n",
      "Epoch 6/30\n",
      "96/96 [==============================] - 21s 218ms/step - loss: 0.7855 - accuracy: 0.8780 - val_loss: 0.7959 - val_accuracy: 0.8148\n",
      "Epoch 7/30\n",
      "96/96 [==============================] - 21s 220ms/step - loss: 0.6360 - accuracy: 0.9077 - val_loss: 0.8513 - val_accuracy: 0.7778\n",
      "Epoch 8/30\n",
      "96/96 [==============================] - 21s 218ms/step - loss: 0.5610 - accuracy: 0.9087 - val_loss: 0.9327 - val_accuracy: 0.7346\n",
      "Epoch 9/30\n",
      "96/96 [==============================] - 21s 218ms/step - loss: 0.4772 - accuracy: 0.9305 - val_loss: 0.5435 - val_accuracy: 0.8951\n",
      "Epoch 10/30\n",
      "96/96 [==============================] - 21s 217ms/step - loss: 0.4233 - accuracy: 0.9406 - val_loss: 0.7198 - val_accuracy: 0.7654\n",
      "Epoch 11/30\n",
      "96/96 [==============================] - 21s 218ms/step - loss: 0.3771 - accuracy: 0.9494 - val_loss: 0.5509 - val_accuracy: 0.8827\n",
      "Epoch 12/30\n",
      "96/96 [==============================] - 21s 218ms/step - loss: 0.3610 - accuracy: 0.9511 - val_loss: 0.9322 - val_accuracy: 0.7593\n",
      "Epoch 13/30\n",
      "96/96 [==============================] - 21s 218ms/step - loss: 0.3842 - accuracy: 0.9465 - val_loss: 0.5438 - val_accuracy: 0.9074\n",
      "Epoch 14/30\n",
      "96/96 [==============================] - 21s 219ms/step - loss: 0.2961 - accuracy: 0.9710 - val_loss: 0.6257 - val_accuracy: 0.8580\n"
     ]
    }
   ],
   "source": [
    "tick = dt.now()\n",
    "\n",
    "model.compile(optimizer=Adam(learning_rate=0.001), # Changed from 0.001\n",
    "              loss=SparseCategoricalCrossentropy(),\n",
    "              metrics=['accuracy'])\n",
    "\n",
    "# Compile the model\n",
    "#model.compile(optimizer='adam',\n",
    "#              loss='sparse_categorical_crossentropy',\n",
    "#              metrics=['accuracy'])\n",
    "\n",
    "# Define the early stopping callback\n",
    "early_stop = EarlyStopping(monitor='val_loss',\n",
    "                           patience=5,\n",
    "                           restore_best_weights=True)\n",
    "\n",
    "# Train the model\n",
    "history = model.fit(x_train,\n",
    "                    y_train,\n",
    "                    validation_data=(x_val, y_val),\n",
    "                    epochs=30,\n",
    "                    callbacks=[early_stop],\n",
    "                    shuffle=False)\n",
    "\n",
    "epoch = history.epoch[-1]\n",
    "\n",
    "tock = dt.now()"
   ]
  },
  {
   "cell_type": "markdown",
   "id": "e2842bad-0df1-4e28-a792-c3675dadd62c",
   "metadata": {},
   "source": [
    "### Training evaluation"
   ]
  },
  {
   "cell_type": "code",
   "execution_count": 22,
   "id": "02b1d1a0-56b2-4cd3-9810-cc3700c575d2",
   "metadata": {
    "tags": []
   },
   "outputs": [
    {
     "data": {
      "image/png": "[encoded data removed]",
      "text/plain": [
       "<Figure size 640x480 with 1 Axes>"
      ]
     },
     "metadata": {},
     "output_type": "display_data"
    },
    {
     "data": {
      "image/png": "[encoded data removed]",
      "text/plain": [
       "<Figure size 640x480 with 1 Axes>"
      ]
     },
     "metadata": {},
     "output_type": "display_data"
    }
   ],
   "source": [
    "# Loss and accuracy graph\n",
    "plt.plot(history.history['loss'],label='train loss')\n",
    "plt.plot(history.history['val_loss'],label='val loss')\n",
    "plt.legend()\n",
    "plt.title(\"Loss\")\n",
    "plt.show()\n",
    "\n",
    "plt.plot(history.history['accuracy'], label='train acc')\n",
    "plt.plot(history.history['val_accuracy'], label='val acc')\n",
    "plt.legend()\n",
    "plt.title(\"Accuracy\")\n",
    "plt.show()"
   ]
  },
  {
   "cell_type": "code",
   "execution_count": 23,
   "id": "c00d27b9-e902-4720-8613-3cdaedc6ab5f",
   "metadata": {
    "tags": []
   },
   "outputs": [
    {
     "name": "stdout",
     "output_type": "stream",
     "text": [
      "26/26 [==============================] - 2s 63ms/step\n",
      "              precision    recall  f1-score   support\n",
      "\n",
      "COVID-19 (0)       0.92      0.86      0.89       286\n",
      " Healthy (1)       0.84      0.90      0.87       252\n",
      "   Other (2)       0.96      0.96      0.96       269\n",
      "\n",
      "    accuracy                           0.91       807\n",
      "   macro avg       0.91      0.91      0.91       807\n",
      "weighted avg       0.91      0.91      0.91       807\n",
      "\n"
     ]
    },
    {
     "data": {
      "text/plain": [
       "<Axes: >"
      ]
     },
     "execution_count": 23,
     "metadata": {},
     "output_type": "execute_result"
    },
    {
     "data": {
      "image/png": "[encoded data removed]",
      "text/plain": [
       "<Figure size 640x480 with 2 Axes>"
      ]
     },
     "metadata": {},
     "output_type": "display_data"
    }
   ],
   "source": [
    "# Create confusion matrix\n",
    "categories = [\"COVID-19 (0)\", \"Healthy (1)\", \"Other (2)\"]\n",
    "y_test_pred = model.predict(x_test) # Calculate confusion matrix on test data\n",
    "y_test_pred = np.argmax(y_test_pred, axis=1)\n",
    "print(classification_report(y_test_pred,y_test,target_names=categories))\n",
    "sns.heatmap(confusion_matrix(y_test_pred, y_test), annot=True, fmt=',d')"
   ]
  },
  {
   "cell_type": "code",
   "execution_count": 24,
   "id": "aee3a0e6-1943-44c2-b35e-8ed77d883d5e",
   "metadata": {
    "tags": []
   },
   "outputs": [
    {
     "name": "stdin",
     "output_type": "stream",
     "text": [
      "Save model (y/n):  y\n",
      "\tModel Name:  cnn-xr-91\n"
     ]
    },
    {
     "name": "stdout",
     "output_type": "stream",
     "text": [
      "\tModel saved!\n"
     ]
    },
    {
     "name": "stderr",
     "output_type": "stream",
     "text": [
      "C:\\Users\\simon\\AppData\\Local\\Programs\\Python\\Python311\\Lib\\site-packages\\keras\\src\\engine\\training.py:3000: UserWarning: You are saving your model as an HDF5 file via `model.save()`. This file format is considered legacy. We recommend using instead the native Keras format, e.g. `model.save('my_model.keras')`.\n",
      "  saving_api.save_model(\n"
     ]
    }
   ],
   "source": [
    "if input(\"Save model (y/n): \").lower() == \"y\":\n",
    "    out_name = input(\"\\tModel Name: \")\n",
    "    model.save(f'../models/{out_name}.h5')\n",
    "    print(\"\\tModel saved!\")\n",
    "else:\n",
    "    print(\"\\tModel not saved!\")"
   ]
  }
 ],
 "metadata": {
  "kernelspec": {
   "display_name": "Python 3 (ipykernel)",
   "language": "python",
   "name": "python3"
  },
  "language_info": {
   "codemirror_mode": {
    "name": "ipython",
    "version": 3
   },
   "file_extension": ".py",
   "mimetype": "text/x-python",
   "name": "python",
   "nbconvert_exporter": "python",
   "pygments_lexer": "ipython3",
   "version": "3.11.4"
  }
 },
 "nbformat": 4,
 "nbformat_minor": 5
}
